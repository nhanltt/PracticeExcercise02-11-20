{
 "cells": [
  {
   "cell_type": "markdown",
   "metadata": {},
   "source": [
    "## Practice exercise \n",
    "#### 02 Nov 2020\n",
    "#### By Nhan Thi Thanh Le"
   ]
  },
  {
   "cell_type": "markdown",
   "metadata": {},
   "source": [
    "Question 1: Give a two list. Create a third list by picking a odd-index element from the first list anh even index elements from second."
   ]
  },
  {
   "cell_type": "code",
   "execution_count": 2,
   "metadata": {},
   "outputs": [
    {
     "output_type": "stream",
     "name": "stdout",
     "text": [
      "Element at odd-index positions from listOne\n[6, 12, 18]\nElement at even-index positions from listTwo\n[4, 12, 20, 28]\nPrinting Final third list\n[6, 12, 18, 4, 12, 20, 28]\n"
     ]
    }
   ],
   "source": [
    "def odd_index(a):\n",
    "    return [a[i] for i in range(len(a)) if i % 2 != 0 ]\n",
    "\n",
    "def even_index(a):    \n",
    "    return [a[i] for i in range(len(a)) if i % 2 == 0 ]\n",
    "\n",
    "def mixlist(a,b):\n",
    "    return a+b\n",
    "\n",
    "listOne = [3,6,9,12,15,18,21]\n",
    "listTwo = [4,8,12,16,20,24,28]\n",
    "\n",
    "print('Element at odd-index positions from listOne')\n",
    "print(odd_index(listOne))\n",
    "print('Element at even-index positions from listTwo')\n",
    "print(even_index(listTwo))\n",
    "print(\"Printing Final third list\")\n",
    "print(mixlist(odd_index(listOne),even_index(listTwo)))"
   ]
  },
  {
   "source": [
    "Question 2: Given an input list removes at index 4 and add it to the 2nd position and also, at the end of the list"
   ],
   "cell_type": "markdown",
   "metadata": {}
  },
  {
   "cell_type": "code",
   "execution_count": 9,
   "metadata": {},
   "outputs": [
    {
     "output_type": "stream",
     "name": "stdout",
     "text": [
      "Original list  [34, 54, 67, 89, 11, 43, 94]\nList after removing element at index 4th  [34, 54, 67, 89, 43, 94]\nList after Adding element at index 2nd  [34, 54, 11, 67, 89, 43, 94]\nList after Adding element at last index  [34, 54, 11, 67, 89, 43, 94, 11]\n"
     ]
    }
   ],
   "source": [
    "List = [34, 54, 67, 89, 11, 43, 94]\n",
    "print(\"Original list \", List)\n",
    "fouth = List.pop(4)\n",
    "print(\"List after removing element at index 4th \", List)\n",
    "List.insert(2,fouth)\n",
    "print(\"List after Adding element at index 2nd \", List )\n",
    "List.append(fouth)\n",
    "print(\"List after Adding element at last index \", List)"
   ]
  },
  {
   "source": [
    "Question 3: Given a list, slice it into 3 chunks and reverse each list"
   ],
   "cell_type": "markdown",
   "metadata": {}
  },
  {
   "cell_type": "code",
   "execution_count": 21,
   "metadata": {},
   "outputs": [
    {
     "output_type": "stream",
     "name": "stdout",
     "text": [
      "Original list  [11, 45, 8, 23, 14, 12, 78, 45, 89]\nChunk 1  [11, 45, 8]\nAfter reversing it  [8, 45, 11]\nChunk 2 [23, 14, 12]\nAfter reversing it  [12, 14, 23]\nChunk 3 [78, 45, 89]\nAfter reversing it  [89, 45, 78]\n"
     ]
    }
   ],
   "source": [
    "List = [11, 45, 8, 23, 14, 12, 78, 45, 89]\n",
    "print(\"Original list \", List)\n",
    "lenght = (len(List) + len(List)%3)//3 \n",
    "chunk1 = List[0:lenght]\n",
    "print(\"Chunk 1 \", chunk1)\n",
    "chunk1.reverse()\n",
    "print(\"After reversing it \", chunk1)\n",
    "chunk2 = List[lenght:lenght*2]\n",
    "print(\"Chunk 2\", chunk2)\n",
    "chunk2.reverse()\n",
    "print(\"After reversing it \", chunk2)\n",
    "chunk3 = List[lenght*2:]\n",
    "print(\"Chunk 3\", chunk3)\n",
    "chunk3.reverse()\n",
    "print(\"After reversing it \", chunk3)"
   ]
  },
  {
   "source": [
    "Question 4: Given a list, iterate it and count the occurence if each element and create a dictionary to shoe the coiut of each element"
   ],
   "cell_type": "markdown",
   "metadata": {}
  },
  {
   "cell_type": "code",
   "execution_count": 33,
   "metadata": {},
   "outputs": [
    {
     "output_type": "stream",
     "name": "stdout",
     "text": [
      "Original list  [11, 45, 8, 11, 23, 45, 23, 45, 89]\n{11: 2, 45: 3, 8: 1, 23: 2, 89: 1}\n"
     ]
    }
   ],
   "source": [
    "List = [11, 45, 8, 11, 23, 45, 23, 45, 89]\n",
    "print(\"Original list \", List)\n",
    "Dict = {List[0]:1}\n",
    "for i in range(1,len(List)):\n",
    "    if not (List[i] in Dict.keys()):\n",
    "        Dict[List[i]]=1\n",
    "    else :\n",
    "        Dict[List[i]] += 1 \n",
    "print(Dict)"
   ]
  },
  {
   "source": [
    "Question 5: Given a two list of equal size. Create a set such that it shows the element from both list in the pair"
   ],
   "cell_type": "markdown",
   "metadata": {}
  },
  {
   "cell_type": "code",
   "execution_count": 45,
   "metadata": {},
   "outputs": [
    {
     "output_type": "stream",
     "name": "stdout",
     "text": [
      "First List  [2, 3, 4, 5, 6, 7, 8]\nSecond List  [4, 8, 12, 16, 20, 24, 28]\nResult is  {(7, 49), (2, 4), (4, 16), (8, 64), (6, 36), (3, 9), (5, 25)}\n"
     ]
    }
   ],
   "source": [
    "ListOne = [2,3,4,5,6,7,8]\n",
    "ListTwo = [4, 9, 16, 25, 36, 49, 64]\n",
    "print(\"First List \", ListOne)\n",
    "print(\"Second List \", listTwo)\n",
    "result = set((x,y) for x in ListOne for y in ListTwo if x**2 == y)\n",
    "print(\"Result is \", result)"
   ]
  },
  {
   "source": [
    "Question 6: Given a following two sets. Find the intersection and remove those elements from the first set"
   ],
   "cell_type": "markdown",
   "metadata": {}
  },
  {
   "cell_type": "code",
   "execution_count": 57,
   "metadata": {},
   "outputs": [
    {
     "output_type": "stream",
     "name": "stdout",
     "text": [
      "First Set  {65, 42, 78, 83, 23, 57, 29}\nSecond Set  {67, 73, 43, 48, 83, 57, 29}\nIntersection is  {57, 83, 29}\nFirst Set after removing common element  {65, 42, 78, 23}\n"
     ]
    }
   ],
   "source": [
    "SetOne = {65, 42, 78, 83, 23, 57, 29}\n",
    "SetTwo = {67, 73, 43, 48, 83, 57, 29}\n",
    "inter = SetOne & SetTwo\n",
    "print(\"First Set \", SetOne)\n",
    "print(\"Second Set \", SetTwo)\n",
    "print(\"Intersection is \", inter)\n",
    "uni = SetOne - SetTwo\n",
    "print(\"First Set after removing common element \", uni)"
   ]
  },
  {
   "source": [
    "Question 7: Given 2 sets. Check if One Set is Subset or Superset of another set. If the subset is found, delete all elments from that set. "
   ],
   "cell_type": "markdown",
   "metadata": {}
  },
  {
   "cell_type": "code",
   "execution_count": 62,
   "metadata": {},
   "outputs": [
    {
     "output_type": "stream",
     "name": "stdout",
     "text": [
      "First Set if subset of second set -  True\nSecond Set if subset of first set -  False\nFirst set is super set of second set -  False\nSecond set is super set of first set -  True\nFirst Set  set()\nSecond Set  {67, 73, 43, 48, 83, 57, 29}\n"
     ]
    }
   ],
   "source": [
    "firstSet = {57, 83, 29}\n",
    "secondSet = {67, 73, 43, 48, 83, 57, 29}\n",
    "print(\"First Set if subset of second set - \",firstSet.issubset(secondSet))\n",
    "print(\"Second Set if subset of first set - \",secondSet.issubset(firstSet))\n",
    "print(\"First set is super set of second set - \", firstSet.issuperset(secondSet))\n",
    "print(\"Second set is super set of first set - \", secondSet.issuperset(firstSet))\n",
    "if firstSet.issubset(secondSet):\n",
    "    firstSet.clear()\n",
    "    print(\"First Set \", firstSet)\n",
    "    print(\"Second Set \", secondSet)"
   ]
  },
  {
   "source": [
    "Question 8: Iterate a given list and check if a given element already exists in a dictionary as a key's value, if not delete it from the list"
   ],
   "cell_type": "markdown",
   "metadata": {}
  },
  {
   "cell_type": "code",
   "execution_count": 63,
   "metadata": {},
   "outputs": [
    {
     "output_type": "stream",
     "name": "stdout",
     "text": [
      " After removing unwanted elements from list  [47, 69, 76, 97]\n"
     ]
    }
   ],
   "source": [
    "rollnumber = [47, 64, 69, 37, 76, 83, 95, 97]\n",
    "sampleDict = {'Jhon':47, 'Emma':69, 'Kelly':76, 'Jason': 97}\n",
    "rollnumber = [x for x in rollnumber if x in sampleDict.values()]\n",
    "print(\" After removing unwanted elements from list \", rollnumber)"
   ]
  },
  {
   "source": [
    "Question 9: Given a dictionary get all values from the dictionary and add it in a list but don't add duplicates"
   ],
   "cell_type": "markdown",
   "metadata": {}
  },
  {
   "cell_type": "code",
   "execution_count": 68,
   "metadata": {},
   "outputs": [
    {
     "output_type": "stream",
     "name": "stdout",
     "text": [
      "[44, 47, 52, 53, 54]\n"
     ]
    }
   ],
   "source": [
    "speed = {'jan':47, 'feb':52, 'march':47, 'April':44, 'May':52, 'June':53, 'july':54, 'Aug':44, 'Sept':54}\n",
    "result = list(set(speed.values()))\n",
    "print(result)"
   ]
  },
  {
   "source": [
    "Question 10: Remove duplicate from a list and create a tuple anf find the minimum and maximum number"
   ],
   "cell_type": "markdown",
   "metadata": {}
  },
  {
   "cell_type": "code",
   "execution_count": 71,
   "metadata": {},
   "outputs": [
    {
     "output_type": "stream",
     "name": "stdout",
     "text": [
      "unique items  [87, 45, 65, 99]\ntuple  (87, 45, 65, 99)\nmin:  45  max:  99\n"
     ]
    }
   ],
   "source": [
    "sampleList = [87, 45, 41, 65, 94, 41, 99, 94]\n",
    "uniq = [x for x in sampleList if sampleList.count(x) == 1]\n",
    "print(\"unique items \", uniq)\n",
    "Tup = tuple(uniq)\n",
    "print(\"tuple \", Tup)\n",
    "print(\"min: \",min(Tup),\" max: \",max(Tup))"
   ]
  },
  {
   "source": [
    "END"
   ],
   "cell_type": "markdown",
   "metadata": {}
  }
 ],
 "metadata": {
  "kernelspec": {
   "display_name": "Python 3",
   "language": "python",
   "name": "python3"
  },
  "language_info": {
   "codemirror_mode": {
    "name": "ipython",
    "version": 3
   },
   "file_extension": ".py",
   "mimetype": "text/x-python",
   "name": "python",
   "nbconvert_exporter": "python",
   "pygments_lexer": "ipython3",
   "version": "3.8.5-final"
  }
 },
 "nbformat": 4,
 "nbformat_minor": 4
}